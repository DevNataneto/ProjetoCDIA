{
 "cells": [
  {
   "cell_type": "code",
   "execution_count": 31,
   "metadata": {},
   "outputs": [],
   "source": [
    "import pandas as pd\n",
    "import numpy as np"
   ]
  },
  {
   "cell_type": "markdown",
   "metadata": {},
   "source": [
    "# Fase 2:\n",
    "1. Criar um Jupyter Notebook para iniciar a exploração dos conjuntos de\n",
    "dados\n",
    "2. No notebook, calcular medidas de centralidade e dispersão das variáveis\n",
    "disponíveis\n",
    "3. No notebook, criar boxplots para as variáveis disponíveis"
   ]
  },
  {
   "cell_type": "code",
   "execution_count": 32,
   "metadata": {},
   "outputs": [
    {
     "data": {
      "text/html": [
       "<div>\n",
       "<style scoped>\n",
       "    .dataframe tbody tr th:only-of-type {\n",
       "        vertical-align: middle;\n",
       "    }\n",
       "\n",
       "    .dataframe tbody tr th {\n",
       "        vertical-align: top;\n",
       "    }\n",
       "\n",
       "    .dataframe thead th {\n",
       "        text-align: right;\n",
       "    }\n",
       "</style>\n",
       "<table border=\"1\" class=\"dataframe\">\n",
       "  <thead>\n",
       "    <tr style=\"text-align: right;\">\n",
       "      <th></th>\n",
       "      <th>ID</th>\n",
       "      <th>Age</th>\n",
       "      <th>Gender</th>\n",
       "      <th>Education</th>\n",
       "      <th>Country</th>\n",
       "      <th>Ethnicity</th>\n",
       "      <th>Nscore</th>\n",
       "      <th>Escore</th>\n",
       "      <th>Oscore</th>\n",
       "      <th>AScore</th>\n",
       "      <th>...</th>\n",
       "      <th>Ecstasy</th>\n",
       "      <th>Heroin</th>\n",
       "      <th>Ketamine</th>\n",
       "      <th>Legalh</th>\n",
       "      <th>LSD</th>\n",
       "      <th>Meth</th>\n",
       "      <th>Mushrooms</th>\n",
       "      <th>Nicotine</th>\n",
       "      <th>Semer</th>\n",
       "      <th>VSA</th>\n",
       "    </tr>\n",
       "  </thead>\n",
       "  <tbody>\n",
       "    <tr>\n",
       "      <th>0</th>\n",
       "      <td>2</td>\n",
       "      <td>25-34</td>\n",
       "      <td>M</td>\n",
       "      <td>Doctorate degree</td>\n",
       "      <td>UK</td>\n",
       "      <td>White</td>\n",
       "      <td>-0.67825</td>\n",
       "      <td>1.93886</td>\n",
       "      <td>1.43533</td>\n",
       "      <td>0.76096</td>\n",
       "      <td>...</td>\n",
       "      <td>CL4</td>\n",
       "      <td>CL0</td>\n",
       "      <td>CL2</td>\n",
       "      <td>CL0</td>\n",
       "      <td>CL2</td>\n",
       "      <td>CL3</td>\n",
       "      <td>CL0</td>\n",
       "      <td>CL4</td>\n",
       "      <td>CL0</td>\n",
       "      <td>CL0</td>\n",
       "    </tr>\n",
       "    <tr>\n",
       "      <th>1</th>\n",
       "      <td>3</td>\n",
       "      <td>35-44</td>\n",
       "      <td>M</td>\n",
       "      <td>Professional certificate/ diploma</td>\n",
       "      <td>UK</td>\n",
       "      <td>White</td>\n",
       "      <td>-0.46725</td>\n",
       "      <td>0.80523</td>\n",
       "      <td>-0.84732</td>\n",
       "      <td>-1.62090</td>\n",
       "      <td>...</td>\n",
       "      <td>CL0</td>\n",
       "      <td>CL0</td>\n",
       "      <td>CL0</td>\n",
       "      <td>CL0</td>\n",
       "      <td>CL0</td>\n",
       "      <td>CL0</td>\n",
       "      <td>CL1</td>\n",
       "      <td>CL0</td>\n",
       "      <td>CL0</td>\n",
       "      <td>CL0</td>\n",
       "    </tr>\n",
       "    <tr>\n",
       "      <th>2</th>\n",
       "      <td>4</td>\n",
       "      <td>18-24</td>\n",
       "      <td>F</td>\n",
       "      <td>Masters degree</td>\n",
       "      <td>UK</td>\n",
       "      <td>White</td>\n",
       "      <td>-0.14882</td>\n",
       "      <td>-0.80615</td>\n",
       "      <td>-0.01928</td>\n",
       "      <td>0.59042</td>\n",
       "      <td>...</td>\n",
       "      <td>CL0</td>\n",
       "      <td>CL0</td>\n",
       "      <td>CL2</td>\n",
       "      <td>CL0</td>\n",
       "      <td>CL0</td>\n",
       "      <td>CL0</td>\n",
       "      <td>CL0</td>\n",
       "      <td>CL2</td>\n",
       "      <td>CL0</td>\n",
       "      <td>CL0</td>\n",
       "    </tr>\n",
       "    <tr>\n",
       "      <th>3</th>\n",
       "      <td>5</td>\n",
       "      <td>35-44</td>\n",
       "      <td>F</td>\n",
       "      <td>Doctorate degree</td>\n",
       "      <td>UK</td>\n",
       "      <td>White</td>\n",
       "      <td>0.73545</td>\n",
       "      <td>-1.63340</td>\n",
       "      <td>-0.45174</td>\n",
       "      <td>-0.30172</td>\n",
       "      <td>...</td>\n",
       "      <td>CL1</td>\n",
       "      <td>CL0</td>\n",
       "      <td>CL0</td>\n",
       "      <td>CL1</td>\n",
       "      <td>CL0</td>\n",
       "      <td>CL0</td>\n",
       "      <td>CL2</td>\n",
       "      <td>CL2</td>\n",
       "      <td>CL0</td>\n",
       "      <td>CL0</td>\n",
       "    </tr>\n",
       "    <tr>\n",
       "      <th>4</th>\n",
       "      <td>6</td>\n",
       "      <td>65+</td>\n",
       "      <td>F</td>\n",
       "      <td>Left school at 18 years</td>\n",
       "      <td>Canada</td>\n",
       "      <td>White</td>\n",
       "      <td>-0.67825</td>\n",
       "      <td>-0.30033</td>\n",
       "      <td>-1.55521</td>\n",
       "      <td>2.03972</td>\n",
       "      <td>...</td>\n",
       "      <td>CL0</td>\n",
       "      <td>CL0</td>\n",
       "      <td>CL0</td>\n",
       "      <td>CL0</td>\n",
       "      <td>CL0</td>\n",
       "      <td>CL0</td>\n",
       "      <td>CL0</td>\n",
       "      <td>CL6</td>\n",
       "      <td>CL0</td>\n",
       "      <td>CL0</td>\n",
       "    </tr>\n",
       "  </tbody>\n",
       "</table>\n",
       "<p>5 rows × 32 columns</p>\n",
       "</div>"
      ],
      "text/plain": [
       "   ID    Age Gender                          Education Country Ethnicity  \\\n",
       "0   2  25-34      M                   Doctorate degree      UK     White   \n",
       "1   3  35-44      M  Professional certificate/ diploma      UK     White   \n",
       "2   4  18-24      F                     Masters degree      UK     White   \n",
       "3   5  35-44      F                   Doctorate degree      UK     White   \n",
       "4   6    65+      F            Left school at 18 years  Canada     White   \n",
       "\n",
       "    Nscore   Escore   Oscore   AScore  ...  Ecstasy  Heroin  Ketamine Legalh  \\\n",
       "0 -0.67825  1.93886  1.43533  0.76096  ...      CL4     CL0       CL2    CL0   \n",
       "1 -0.46725  0.80523 -0.84732 -1.62090  ...      CL0     CL0       CL0    CL0   \n",
       "2 -0.14882 -0.80615 -0.01928  0.59042  ...      CL0     CL0       CL2    CL0   \n",
       "3  0.73545 -1.63340 -0.45174 -0.30172  ...      CL1     CL0       CL0    CL1   \n",
       "4 -0.67825 -0.30033 -1.55521  2.03972  ...      CL0     CL0       CL0    CL0   \n",
       "\n",
       "   LSD Meth Mushrooms Nicotine Semer  VSA  \n",
       "0  CL2  CL3       CL0      CL4   CL0  CL0  \n",
       "1  CL0  CL0       CL1      CL0   CL0  CL0  \n",
       "2  CL0  CL0       CL0      CL2   CL0  CL0  \n",
       "3  CL0  CL0       CL2      CL2   CL0  CL0  \n",
       "4  CL0  CL0       CL0      CL6   CL0  CL0  \n",
       "\n",
       "[5 rows x 32 columns]"
      ]
     },
     "execution_count": 32,
     "metadata": {},
     "output_type": "execute_result"
    }
   ],
   "source": [
    "drugs_df = pd.read_csv('datasets/Drug_Consumption.csv')\n",
    "drugs_df.head(5)"
   ]
  },
  {
   "cell_type": "markdown",
   "metadata": {},
   "source": [
    "#### Informações do dataset:\n",
    "- ID: is a number of records in an original database. Cannot be related to the participant. It can be used for reference only.\n",
    "- Age (Real) is the age of participant\n",
    "- Gender: Male or Female\n",
    "- Education: level of education of participant\n",
    "- Country: country of origin of the participant\n",
    "- Ethnicity: ethnicity of participant\n",
    "- Nscore (Real) is NEO-FFI-R Neuroticism\n",
    "- Escore (Real) is NEO-FFI-R Extraversion\n",
    "- Oscore (Real) is NEO-FFI-R Openness to experience.\n",
    "- Ascore (Real) is NEO-FFI-R Agreeableness.\n",
    "- Cscore (Real) is NEO-FFI-R Conscientiousness.\n",
    "- Impulsive (Real) is impulsiveness measured by BIS-11\n",
    "- SS (Real) is sensation seeing measured by ImpSS\n",
    "- Alcohol: alcohol consumption\n",
    "- Amphet: amphetamines consumption\n",
    "- Amyl: nitrite consumption\n",
    "- Benzos: benzodiazepine consumption\n",
    "- Caff: caffeine consumption\n",
    "- Cannabis: marijuana consumption\n",
    "- Choc: chocolate consumption\n",
    "- Coke: cocaine consumption\n",
    "- Crack: crack cocaine consumption\n",
    "- Ecstasy: ecstasy consumption\n",
    "- Heroin: heroin consumption\n",
    "- Ketamine: ketamine consumption\n",
    "- Legalh: legal highs consumption\n",
    "- LSD: LSD consumption\n",
    "- Meth: methadone consumption\n",
    "- Mushroom: magic mushroom consumption\n",
    "- Nicotine: nicotine consumption\n",
    "- Semer: class of fictitious drug Semeron consumption (i.e. control)\n",
    "- VSA: class of volatile substance abuse consumption\n",
    "##### Rating's for Drug Use:\n",
    "\n",
    "- CL0 Never Used\n",
    "- CL1 Used over a Decade Ago\n",
    "- CL2 Used in Last Decade\n",
    "- CL3 Used in Last Year 59\n",
    "- CL4 Used in Last Month\n",
    "- CL5 Used in Last Week\n",
    "- CL6 Used in Last Day"
   ]
  },
  {
   "cell_type": "code",
   "execution_count": 33,
   "metadata": {},
   "outputs": [],
   "source": [
    "#função para realizar a analise exploratoria dos dados\n",
    "def infos(df, info = '', num = 0, isnum = False):\n",
    "    print(f'Value\\tCases')\n",
    "    print(df[info].value_counts())\n",
    "    print(df[info].describe())"
   ]
  },
  {
   "cell_type": "code",
   "execution_count": 34,
   "metadata": {},
   "outputs": [
    {
     "name": "stdout",
     "output_type": "stream",
     "text": [
      "Value\tCases\n",
      "18-24    643\n",
      "25-34    481\n",
      "35-44    355\n",
      "45-54    294\n",
      "55-64     93\n",
      "65+       18\n",
      "Name: Age, dtype: int64\n",
      "count      1884\n",
      "unique        6\n",
      "top       18-24\n",
      "freq        643\n",
      "Name: Age, dtype: object\n"
     ]
    }
   ],
   "source": [
    "infos(drugs_df, info='Age')"
   ]
  },
  {
   "cell_type": "code",
   "execution_count": 35,
   "metadata": {},
   "outputs": [
    {
     "name": "stdout",
     "output_type": "stream",
     "text": [
      "Value\tCases\n",
      "M    943\n",
      "F    941\n",
      "Name: Gender, dtype: int64\n",
      "count     1884\n",
      "unique       2\n",
      "top          M\n",
      "freq       943\n",
      "Name: Gender, dtype: object\n"
     ]
    }
   ],
   "source": [
    "infos(drugs_df, info='Gender')"
   ]
  },
  {
   "cell_type": "code",
   "execution_count": 36,
   "metadata": {},
   "outputs": [
    {
     "name": "stdout",
     "output_type": "stream",
     "text": [
      "Value\tCases\n",
      "UK                     1043\n",
      "USA                     557\n",
      "Other                   118\n",
      "Canada                   87\n",
      "Australia                54\n",
      "Republic of Ireland      20\n",
      "New Zealand               5\n",
      "Name: Country, dtype: int64\n",
      "count     1884\n",
      "unique       7\n",
      "top         UK\n",
      "freq      1043\n",
      "Name: Country, dtype: object\n"
     ]
    }
   ],
   "source": [
    "infos(drugs_df, info='Country')"
   ]
  },
  {
   "cell_type": "code",
   "execution_count": 37,
   "metadata": {},
   "outputs": [
    {
     "name": "stdout",
     "output_type": "stream",
     "text": [
      "Value\tCases\n",
      "White                1720\n",
      "Other                  63\n",
      "Black                  33\n",
      "Asian                  26\n",
      "Mixed-White/Black      20\n",
      "Mixed-White/Asian      19\n",
      "Mixed-Black/Asian       3\n",
      "Name: Ethnicity, dtype: int64\n",
      "count      1884\n",
      "unique        7\n",
      "top       White\n",
      "freq       1720\n",
      "Name: Ethnicity, dtype: object\n"
     ]
    }
   ],
   "source": [
    "infos(drugs_df, info='Ethnicity')"
   ]
  },
  {
   "cell_type": "code",
   "execution_count": 38,
   "metadata": {},
   "outputs": [
    {
     "data": {
      "text/html": [
       "<div>\n",
       "<style scoped>\n",
       "    .dataframe tbody tr th:only-of-type {\n",
       "        vertical-align: middle;\n",
       "    }\n",
       "\n",
       "    .dataframe tbody tr th {\n",
       "        vertical-align: top;\n",
       "    }\n",
       "\n",
       "    .dataframe thead th {\n",
       "        text-align: right;\n",
       "    }\n",
       "</style>\n",
       "<table border=\"1\" class=\"dataframe\">\n",
       "  <thead>\n",
       "    <tr style=\"text-align: right;\">\n",
       "      <th></th>\n",
       "      <th>Alcohol</th>\n",
       "      <th>Amphet</th>\n",
       "      <th>Amyl</th>\n",
       "      <th>Benzos</th>\n",
       "      <th>Caff</th>\n",
       "      <th>Cannabis</th>\n",
       "      <th>Choc</th>\n",
       "      <th>Coke</th>\n",
       "      <th>Crack</th>\n",
       "      <th>Ecstasy</th>\n",
       "      <th>Heroin</th>\n",
       "      <th>Ketamine</th>\n",
       "      <th>Legalh</th>\n",
       "      <th>LSD</th>\n",
       "      <th>Meth</th>\n",
       "      <th>Mushrooms</th>\n",
       "      <th>Nicotine</th>\n",
       "    </tr>\n",
       "  </thead>\n",
       "  <tbody>\n",
       "    <tr>\n",
       "      <th>0</th>\n",
       "      <td>CL5</td>\n",
       "      <td>CL2</td>\n",
       "      <td>CL2</td>\n",
       "      <td>CL0</td>\n",
       "      <td>CL6</td>\n",
       "      <td>CL4</td>\n",
       "      <td>CL6</td>\n",
       "      <td>CL3</td>\n",
       "      <td>CL0</td>\n",
       "      <td>CL4</td>\n",
       "      <td>CL0</td>\n",
       "      <td>CL2</td>\n",
       "      <td>CL0</td>\n",
       "      <td>CL2</td>\n",
       "      <td>CL3</td>\n",
       "      <td>CL0</td>\n",
       "      <td>CL4</td>\n",
       "    </tr>\n",
       "    <tr>\n",
       "      <th>1</th>\n",
       "      <td>CL6</td>\n",
       "      <td>CL0</td>\n",
       "      <td>CL0</td>\n",
       "      <td>CL0</td>\n",
       "      <td>CL6</td>\n",
       "      <td>CL3</td>\n",
       "      <td>CL4</td>\n",
       "      <td>CL0</td>\n",
       "      <td>CL0</td>\n",
       "      <td>CL0</td>\n",
       "      <td>CL0</td>\n",
       "      <td>CL0</td>\n",
       "      <td>CL0</td>\n",
       "      <td>CL0</td>\n",
       "      <td>CL0</td>\n",
       "      <td>CL1</td>\n",
       "      <td>CL0</td>\n",
       "    </tr>\n",
       "    <tr>\n",
       "      <th>2</th>\n",
       "      <td>CL4</td>\n",
       "      <td>CL0</td>\n",
       "      <td>CL0</td>\n",
       "      <td>CL3</td>\n",
       "      <td>CL5</td>\n",
       "      <td>CL2</td>\n",
       "      <td>CL4</td>\n",
       "      <td>CL2</td>\n",
       "      <td>CL0</td>\n",
       "      <td>CL0</td>\n",
       "      <td>CL0</td>\n",
       "      <td>CL2</td>\n",
       "      <td>CL0</td>\n",
       "      <td>CL0</td>\n",
       "      <td>CL0</td>\n",
       "      <td>CL0</td>\n",
       "      <td>CL2</td>\n",
       "    </tr>\n",
       "    <tr>\n",
       "      <th>3</th>\n",
       "      <td>CL4</td>\n",
       "      <td>CL1</td>\n",
       "      <td>CL1</td>\n",
       "      <td>CL0</td>\n",
       "      <td>CL6</td>\n",
       "      <td>CL3</td>\n",
       "      <td>CL6</td>\n",
       "      <td>CL0</td>\n",
       "      <td>CL0</td>\n",
       "      <td>CL1</td>\n",
       "      <td>CL0</td>\n",
       "      <td>CL0</td>\n",
       "      <td>CL1</td>\n",
       "      <td>CL0</td>\n",
       "      <td>CL0</td>\n",
       "      <td>CL2</td>\n",
       "      <td>CL2</td>\n",
       "    </tr>\n",
       "    <tr>\n",
       "      <th>4</th>\n",
       "      <td>CL2</td>\n",
       "      <td>CL0</td>\n",
       "      <td>CL0</td>\n",
       "      <td>CL0</td>\n",
       "      <td>CL6</td>\n",
       "      <td>CL0</td>\n",
       "      <td>CL4</td>\n",
       "      <td>CL0</td>\n",
       "      <td>CL0</td>\n",
       "      <td>CL0</td>\n",
       "      <td>CL0</td>\n",
       "      <td>CL0</td>\n",
       "      <td>CL0</td>\n",
       "      <td>CL0</td>\n",
       "      <td>CL0</td>\n",
       "      <td>CL0</td>\n",
       "      <td>CL6</td>\n",
       "    </tr>\n",
       "  </tbody>\n",
       "</table>\n",
       "</div>"
      ],
      "text/plain": [
       "  Alcohol Amphet Amyl Benzos Caff Cannabis Choc Coke Crack Ecstasy Heroin  \\\n",
       "0     CL5    CL2  CL2    CL0  CL6      CL4  CL6  CL3   CL0     CL4    CL0   \n",
       "1     CL6    CL0  CL0    CL0  CL6      CL3  CL4  CL0   CL0     CL0    CL0   \n",
       "2     CL4    CL0  CL0    CL3  CL5      CL2  CL4  CL2   CL0     CL0    CL0   \n",
       "3     CL4    CL1  CL1    CL0  CL6      CL3  CL6  CL0   CL0     CL1    CL0   \n",
       "4     CL2    CL0  CL0    CL0  CL6      CL0  CL4  CL0   CL0     CL0    CL0   \n",
       "\n",
       "  Ketamine Legalh  LSD Meth Mushrooms Nicotine  \n",
       "0      CL2    CL0  CL2  CL3       CL0      CL4  \n",
       "1      CL0    CL0  CL0  CL0       CL1      CL0  \n",
       "2      CL2    CL0  CL0  CL0       CL0      CL2  \n",
       "3      CL0    CL1  CL0  CL0       CL2      CL2  \n",
       "4      CL0    CL0  CL0  CL0       CL0      CL6  "
      ]
     },
     "execution_count": 38,
     "metadata": {},
     "output_type": "execute_result"
    }
   ],
   "source": [
    "#Criação de dataset auxiliar contendo as informações do uso de diversas drogas\n",
    "drugs_df_drugs = drugs_df.loc[:, \"Alcohol\":\"Nicotine\"]\n",
    "drugs_df_drugs.head(5)"
   ]
  },
  {
   "cell_type": "code",
   "execution_count": 39,
   "metadata": {},
   "outputs": [
    {
     "name": "stdout",
     "output_type": "stream",
     "text": [
      "Value\tCases\n",
      "CL5    758\n",
      "CL6    505\n",
      "CL4    287\n",
      "CL3    198\n",
      "CL2     68\n",
      "CL1     34\n",
      "CL0     34\n",
      "Name: Alcohol, dtype: int64\n",
      "count     1884\n",
      "unique       7\n",
      "top        CL5\n",
      "freq       758\n",
      "Name: Alcohol, dtype: object\n"
     ]
    }
   ],
   "source": [
    "infos(drugs_df_drugs, info='Alcohol')"
   ]
  },
  {
   "cell_type": "code",
   "execution_count": 40,
   "metadata": {},
   "outputs": [
    {
     "name": "stdout",
     "output_type": "stream",
     "text": [
      "Value\tCases\n",
      "CL0    976\n",
      "CL2    242\n",
      "CL1    230\n",
      "CL3    198\n",
      "CL6    102\n",
      "CL4     75\n",
      "CL5     61\n",
      "Name: Amphet, dtype: int64\n",
      "count     1884\n",
      "unique       7\n",
      "top        CL0\n",
      "freq       976\n",
      "Name: Amphet, dtype: object\n"
     ]
    }
   ],
   "source": [
    "infos(drugs_df_drugs, info='Amphet')"
   ]
  },
  {
   "cell_type": "code",
   "execution_count": 41,
   "metadata": {},
   "outputs": [
    {
     "name": "stdout",
     "output_type": "stream",
     "text": [
      "Value\tCases\n",
      "CL0    1304\n",
      "CL2     237\n",
      "CL1     210\n",
      "CL3      92\n",
      "CL4      24\n",
      "CL5      14\n",
      "CL6       3\n",
      "Name: Amyl, dtype: int64\n",
      "count     1884\n",
      "unique       7\n",
      "top        CL0\n",
      "freq      1304\n",
      "Name: Amyl, dtype: object\n"
     ]
    }
   ],
   "source": [
    "infos(drugs_df_drugs, info='Amyl')"
   ]
  },
  {
   "cell_type": "code",
   "execution_count": 42,
   "metadata": {},
   "outputs": [
    {
     "name": "stdout",
     "output_type": "stream",
     "text": [
      "Value\tCases\n",
      "CL0    1000\n",
      "CL3     236\n",
      "CL2     233\n",
      "CL4     120\n",
      "CL1     116\n",
      "CL6      95\n",
      "CL5      84\n",
      "Name: Benzos, dtype: int64\n",
      "count     1884\n",
      "unique       7\n",
      "top        CL0\n",
      "freq      1000\n",
      "Name: Benzos, dtype: object\n"
     ]
    }
   ],
   "source": [
    "infos(drugs_df_drugs, info='Benzos')"
   ]
  },
  {
   "cell_type": "code",
   "execution_count": 43,
   "metadata": {},
   "outputs": [
    {
     "name": "stdout",
     "output_type": "stream",
     "text": [
      "Value\tCases\n",
      "CL6    1384\n",
      "CL5     273\n",
      "CL4     106\n",
      "CL3      60\n",
      "CL0      27\n",
      "CL2      24\n",
      "CL1      10\n",
      "Name: Caff, dtype: int64\n",
      "count     1884\n",
      "unique       7\n",
      "top        CL6\n",
      "freq      1384\n",
      "Name: Caff, dtype: object\n"
     ]
    }
   ],
   "source": [
    "infos(drugs_df_drugs, info='Caff')"
   ]
  },
  {
   "cell_type": "code",
   "execution_count": 44,
   "metadata": {},
   "outputs": [
    {
     "name": "stdout",
     "output_type": "stream",
     "text": [
      "Value\tCases\n",
      "CL6    463\n",
      "CL0    412\n",
      "CL2    266\n",
      "CL3    211\n",
      "CL1    207\n",
      "CL5    185\n",
      "CL4    140\n",
      "Name: Cannabis, dtype: int64\n",
      "count     1884\n",
      "unique       7\n",
      "top        CL6\n",
      "freq       463\n",
      "Name: Cannabis, dtype: object\n"
     ]
    }
   ],
   "source": [
    "infos(drugs_df_drugs, info='Cannabis')"
   ]
  },
  {
   "cell_type": "code",
   "execution_count": 45,
   "metadata": {},
   "outputs": [
    {
     "name": "stdout",
     "output_type": "stream",
     "text": [
      "Value\tCases\n",
      "CL6    807\n",
      "CL5    682\n",
      "CL4    296\n",
      "CL3     54\n",
      "CL0     32\n",
      "CL2     10\n",
      "CL1      3\n",
      "Name: Choc, dtype: int64\n",
      "count     1884\n",
      "unique       7\n",
      "top        CL6\n",
      "freq       807\n",
      "Name: Choc, dtype: object\n"
     ]
    }
   ],
   "source": [
    "infos(drugs_df_drugs, info='Choc')"
   ]
  },
  {
   "cell_type": "code",
   "execution_count": 46,
   "metadata": {},
   "outputs": [
    {
     "name": "stdout",
     "output_type": "stream",
     "text": [
      "Value\tCases\n",
      "CL0    1037\n",
      "CL2     270\n",
      "CL3     258\n",
      "CL1     160\n",
      "CL4      99\n",
      "CL5      41\n",
      "CL6      19\n",
      "Name: Coke, dtype: int64\n",
      "count     1884\n",
      "unique       7\n",
      "top        CL0\n",
      "freq      1037\n",
      "Name: Coke, dtype: object\n"
     ]
    }
   ],
   "source": [
    "infos(drugs_df_drugs, info='Coke')"
   ]
  },
  {
   "cell_type": "code",
   "execution_count": 47,
   "metadata": {},
   "outputs": [
    {
     "name": "stdout",
     "output_type": "stream",
     "text": [
      "Value\tCases\n",
      "CL0    1626\n",
      "CL2     112\n",
      "CL1      67\n",
      "CL3      59\n",
      "CL5       9\n",
      "CL4       9\n",
      "CL6       2\n",
      "Name: Crack, dtype: int64\n",
      "count     1884\n",
      "unique       7\n",
      "top        CL0\n",
      "freq      1626\n",
      "Name: Crack, dtype: object\n"
     ]
    }
   ],
   "source": [
    "infos(drugs_df_drugs, info='Crack')"
   ]
  },
  {
   "cell_type": "code",
   "execution_count": 48,
   "metadata": {},
   "outputs": [
    {
     "name": "stdout",
     "output_type": "stream",
     "text": [
      "Value\tCases\n",
      "CL0    1020\n",
      "CL3     277\n",
      "CL2     234\n",
      "CL4     156\n",
      "CL1     113\n",
      "CL5      63\n",
      "CL6      21\n",
      "Name: Ecstasy, dtype: int64\n",
      "count     1884\n",
      "unique       7\n",
      "top        CL0\n",
      "freq      1020\n",
      "Name: Ecstasy, dtype: object\n"
     ]
    }
   ],
   "source": [
    "infos(drugs_df_drugs, info='Ecstasy')"
   ]
  },
  {
   "cell_type": "code",
   "execution_count": 49,
   "metadata": {},
   "outputs": [
    {
     "name": "stdout",
     "output_type": "stream",
     "text": [
      "Value\tCases\n",
      "CL0    1604\n",
      "CL2      94\n",
      "CL1      68\n",
      "CL3      65\n",
      "CL4      24\n",
      "CL5      16\n",
      "CL6      13\n",
      "Name: Heroin, dtype: int64\n",
      "count     1884\n",
      "unique       7\n",
      "top        CL0\n",
      "freq      1604\n",
      "Name: Heroin, dtype: object\n"
     ]
    }
   ],
   "source": [
    "infos(drugs_df_drugs, info='Heroin')"
   ]
  },
  {
   "cell_type": "code",
   "execution_count": 50,
   "metadata": {},
   "outputs": [
    {
     "name": "stdout",
     "output_type": "stream",
     "text": [
      "Value\tCases\n",
      "CL0    1489\n",
      "CL2     142\n",
      "CL3     129\n",
      "CL1      45\n",
      "CL4      42\n",
      "CL5      33\n",
      "CL6       4\n",
      "Name: Ketamine, dtype: int64\n",
      "count     1884\n",
      "unique       7\n",
      "top        CL0\n",
      "freq      1489\n",
      "Name: Ketamine, dtype: object\n"
     ]
    }
   ],
   "source": [
    "infos(drugs_df_drugs, info='Ketamine')"
   ]
  },
  {
   "cell_type": "code",
   "execution_count": 51,
   "metadata": {},
   "outputs": [
    {
     "name": "stdout",
     "output_type": "stream",
     "text": [
      "Value\tCases\n",
      "CL0    1093\n",
      "CL3     323\n",
      "CL2     198\n",
      "CL4     110\n",
      "CL6      67\n",
      "CL5      64\n",
      "CL1      29\n",
      "Name: Legalh, dtype: int64\n",
      "count     1884\n",
      "unique       7\n",
      "top        CL0\n",
      "freq      1093\n",
      "Name: Legalh, dtype: object\n"
     ]
    }
   ],
   "source": [
    "infos(drugs_df_drugs, info='Legalh')"
   ]
  },
  {
   "cell_type": "code",
   "execution_count": 52,
   "metadata": {},
   "outputs": [
    {
     "name": "stdout",
     "output_type": "stream",
     "text": [
      "Value\tCases\n",
      "CL0    1068\n",
      "CL1     259\n",
      "CL3     214\n",
      "CL2     177\n",
      "CL4      97\n",
      "CL5      56\n",
      "CL6      13\n",
      "Name: LSD, dtype: int64\n",
      "count     1884\n",
      "unique       7\n",
      "top        CL0\n",
      "freq      1068\n",
      "Name: LSD, dtype: object\n"
     ]
    }
   ],
   "source": [
    "infos(drugs_df_drugs, info='LSD')"
   ]
  },
  {
   "cell_type": "code",
   "execution_count": 53,
   "metadata": {},
   "outputs": [
    {
     "name": "stdout",
     "output_type": "stream",
     "text": [
      "Value\tCases\n",
      "CL0    1428\n",
      "CL3     149\n",
      "CL2      97\n",
      "CL6      73\n",
      "CL4      50\n",
      "CL5      48\n",
      "CL1      39\n",
      "Name: Meth, dtype: int64\n",
      "count     1884\n",
      "unique       7\n",
      "top        CL0\n",
      "freq      1428\n",
      "Name: Meth, dtype: object\n"
     ]
    }
   ],
   "source": [
    "infos(drugs_df_drugs, info='Meth')"
   ]
  },
  {
   "cell_type": "code",
   "execution_count": 54,
   "metadata": {},
   "outputs": [
    {
     "name": "stdout",
     "output_type": "stream",
     "text": [
      "Value\tCases\n",
      "CL0    981\n",
      "CL3    275\n",
      "CL2    260\n",
      "CL1    209\n",
      "CL4    115\n",
      "CL5     40\n",
      "CL6      4\n",
      "Name: Mushrooms, dtype: int64\n",
      "count     1884\n",
      "unique       7\n",
      "top        CL0\n",
      "freq       981\n",
      "Name: Mushrooms, dtype: object\n"
     ]
    }
   ],
   "source": [
    "infos(drugs_df_drugs, info='Mushrooms')"
   ]
  },
  {
   "cell_type": "code",
   "execution_count": 55,
   "metadata": {},
   "outputs": [
    {
     "name": "stdout",
     "output_type": "stream",
     "text": [
      "Value\tCases\n",
      "CL6    610\n",
      "CL0    428\n",
      "CL2    203\n",
      "CL1    193\n",
      "CL3    185\n",
      "CL5    157\n",
      "CL4    108\n",
      "Name: Nicotine, dtype: int64\n",
      "count     1884\n",
      "unique       7\n",
      "top        CL6\n",
      "freq       610\n",
      "Name: Nicotine, dtype: object\n"
     ]
    }
   ],
   "source": [
    "infos(drugs_df_drugs, info='Nicotine')"
   ]
  }
 ],
 "metadata": {
  "interpreter": {
   "hash": "916dbcbb3f70747c44a77c7bcd40155683ae19c65e1c03b4aa3499c5328201f1"
  },
  "kernelspec": {
   "display_name": "Python 3.8.10 64-bit",
   "language": "python",
   "name": "python3"
  },
  "language_info": {
   "codemirror_mode": {
    "name": "ipython",
    "version": 3
   },
   "file_extension": ".py",
   "mimetype": "text/x-python",
   "name": "python",
   "nbconvert_exporter": "python",
   "pygments_lexer": "ipython3",
   "version": "3.8.10"
  },
  "orig_nbformat": 4
 },
 "nbformat": 4,
 "nbformat_minor": 2
}
